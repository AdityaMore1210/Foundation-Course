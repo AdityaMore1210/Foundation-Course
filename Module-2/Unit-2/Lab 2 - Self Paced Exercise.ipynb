{
 "cells": [
  {
   "cell_type": "markdown",
   "metadata": {},
   "source": [
    "<span style=\"color:black;font-size: 30px; font-family: Arial; font-weight: bold;\"> EDUNET FOUNDATION-Self Practice Notebook</span>"
   ]
  },
  {
   "cell_type": "markdown",
   "metadata": {},
   "source": [
    "<span style=\"color:black;font-size: 30px; font-family: Arial; font-weight: bold;\"> Lab 2: Perform Indexing , Slicing and Broadcasting in NumPy </span>"
   ]
  },
  {
   "cell_type": "markdown",
   "metadata": {},
   "source": [
    "<span style=\"color:black;font-size: 25px; font-family: Arial; font-weight: bold;\"> Problem 1: Array Creation and Indexing. </span>"
   ]
  },
  {
   "cell_type": "markdown",
   "metadata": {},
   "source": [
    "<span style=\"color:black;font-size: 15px; font-family: Arial; font-weight: bold;\">1 Create a NumPy array containing the numbers from 0 to 9. </span> "
   ]
  },
  {
   "cell_type": "markdown",
   "metadata": {},
   "source": [
    "<span style=\"color:black;font-size: 15px; font-family: Arial; font-weight: bold;\"> 2 Print the element at index 3. </span> "
   ]
  },
  {
   "cell_type": "markdown",
   "metadata": {},
   "source": [
    "<span style=\"color:black;font-size: 15px; font-family: Arial; font-weight: bold;\"> 3 Print the last element of the array. </span> "
   ]
  },
  {
   "cell_type": "markdown",
   "metadata": {},
   "source": [
    "<span style=\"color:black;font-size: 15px; font-family: Arial; font-weight: bold;\"> 4 Create a 2D array with shape (3, 3) containing consecutive numbers starting from 1. </span> "
   ]
  },
  {
   "cell_type": "markdown",
   "metadata": {},
   "source": [
    " <span style=\"color:black;font-size: 15px; font-family: Arial; font-weight: bold;\"> 5 Print the element at row 2 and column 1 of the 2D array.</span> "
   ]
  },
  {
   "cell_type": "code",
   "execution_count": null,
   "metadata": {},
   "outputs": [],
   "source": []
  },
  {
   "cell_type": "markdown",
   "metadata": {},
   "source": [
    "<span style=\"color:black;font-size: 25px; font-family: Arial; font-weight: bold;\"> Problem 2 : Slicing and Broadcasting </span>"
   ]
  },
  {
   "cell_type": "markdown",
   "metadata": {},
   "source": [
    "<span style=\"color:black;font-size: 15px; font-family: Arial; font-weight: bold;\">1 Create a NumPy array containing the numbers from 1 to 10. </span> "
   ]
  },
  {
   "cell_type": "markdown",
   "metadata": {},
   "source": [
    "<span style=\"color:black;font-size: 15px; font-family: Arial; font-weight: bold;\"> 2 Use slicing to extract a subarray containing the elements from index 2 to 6. </span> "
   ]
  },
  {
   "cell_type": "markdown",
   "metadata": {},
   "source": [
    "<span style=\"color:black;font-size: 15px; font-family: Arial; font-weight: bold;\"> 3 Multiply the subarray by 2 using broadcasting. </span> "
   ]
  },
  {
   "cell_type": "markdown",
   "metadata": {},
   "source": [
    "<span style=\"color:black;font-size: 15px; font-family: Arial; font-weight: bold;\"> 4 Create a 2D array with shape (4, 3) containing consecutive numbers starting from 1. </span> "
   ]
  },
  {
   "cell_type": "markdown",
   "metadata": {},
   "source": [
    " <span style=\"color:black;font-size: 15px; font-family: Arial; font-weight: bold;\"> 5 Slice the first two rows and the last two columns of the 2D array.</span> "
   ]
  },
  {
   "cell_type": "code",
   "execution_count": null,
   "metadata": {},
   "outputs": [],
   "source": []
  }
 ],
 "metadata": {
  "kernelspec": {
   "display_name": "Python 3",
   "language": "python",
   "name": "python3"
  },
  "language_info": {
   "codemirror_mode": {
    "name": "ipython",
    "version": 3
   },
   "file_extension": ".py",
   "mimetype": "text/x-python",
   "name": "python",
   "nbconvert_exporter": "python",
   "pygments_lexer": "ipython3",
   "version": "3.8.5"
  },
  "toc": {
   "base_numbering": 1,
   "nav_menu": {},
   "number_sections": true,
   "sideBar": true,
   "skip_h1_title": false,
   "title_cell": "Table of Contents",
   "title_sidebar": "Contents",
   "toc_cell": false,
   "toc_position": {},
   "toc_section_display": true,
   "toc_window_display": false
  }
 },
 "nbformat": 4,
 "nbformat_minor": 5
}
