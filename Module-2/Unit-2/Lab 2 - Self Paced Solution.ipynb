{
 "cells": [
  {
   "cell_type": "markdown",
   "metadata": {},
   "source": [
    "<span style=\"color:black;font-size: 30px; font-family: Arial; font-weight: bold;\"> EDUNET FOUNDATION-Self Practice Solution Notebook</span>"
   ]
  },
  {
   "cell_type": "markdown",
   "metadata": {},
   "source": [
    "<span style=\"color:black;font-size: 25px; font-family: Arial; font-weight: bold;\"> Lab 2: Solutions Notebook</span>"
   ]
  },
  {
   "cell_type": "markdown",
   "metadata": {},
   "source": [
    "<span style=\"color:black;font-size: 25px; font-family: Arial; font-weight: bold;\"> Problem 1: Array Creation and Indexing. </span>"
   ]
  },
  {
   "cell_type": "markdown",
   "metadata": {},
   "source": [
    "<span style=\"color:black;font-size: 20px; font-family: Arial; font-weight: bold;\">1 Create a NumPy array containing the numbers from 0 to 9. </span> "
   ]
  },
  {
   "cell_type": "markdown",
   "metadata": {},
   "source": [
    "<span style=\"color:black;font-size: 20px; font-family: Arial; font-weight: bold;\"> 2 Print the element at index 3. </span> "
   ]
  },
  {
   "cell_type": "markdown",
   "metadata": {},
   "source": [
    "<span style=\"color:black;font-size: 20px; font-family: Arial; font-weight: bold;\"> 3 Print the last element of the array. </span> "
   ]
  },
  {
   "cell_type": "markdown",
   "metadata": {},
   "source": [
    "<span style=\"color:black;font-size: 20px; font-family: Arial; font-weight: bold;\"> 4 Create a 2D array with shape (3, 3) containing consecutive numbers starting from 1. </span> "
   ]
  },
  {
   "cell_type": "markdown",
   "metadata": {},
   "source": [
    " <span style=\"color:black;font-size: 20px; font-family: Arial; font-weight: bold;\"> 5 Print the element at row 2 and column 1 of the 2D array.</span> "
   ]
  },
  {
   "cell_type": "code",
   "execution_count": 3,
   "metadata": {},
   "outputs": [
    {
     "name": "stdout",
     "output_type": "stream",
     "text": [
      "Array 1: [0 1 2 3 4 5 6 7 8 9]\n",
      "Element at Index 3: 3\n",
      "Last Element: 9\n",
      "2D Array:\n",
      "[[1 2 3]\n",
      " [4 5 6]\n",
      " [7 8 9]]\n",
      "Element at Row 2, Column 1: 8\n"
     ]
    }
   ],
   "source": [
    "import numpy as np\n",
    "\n",
    "# Exercise 1\n",
    "array1 = np.array([0, 1, 2, 3, 4, 5, 6, 7, 8, 9])\n",
    "element_at_index_3 = array1[3]\n",
    "last_element = array1[-1]\n",
    "array2d = np.arange(1, 10).reshape(3, 3)\n",
    "element_row2_col1 = array2d[2, 1]\n",
    "\n",
    "print(\"Array 1:\", array1)\n",
    "print(\"Element at Index 3:\", element_at_index_3)\n",
    "print(\"Last Element:\", last_element)\n",
    "print(\"2D Array:\")\n",
    "print(array2d)\n",
    "print(\"Element at Row 2, Column 1:\", element_row2_col1)\n"
   ]
  },
  {
   "cell_type": "markdown",
   "metadata": {},
   "source": [
    "<span style=\"color:black;font-size: 25px; font-family: Arial; font-weight: bold;\"> Problem 2 : Slicing and Broadcasting </span>"
   ]
  },
  {
   "cell_type": "markdown",
   "metadata": {},
   "source": [
    "<span style=\"color:black;font-size: 20px; font-family: Arial; font-weight: bold;\">1 Create a NumPy array containing the numbers from 1 to 10. </span> "
   ]
  },
  {
   "cell_type": "markdown",
   "metadata": {},
   "source": [
    "<span style=\"color:black;font-size: 20px; font-family: Arial; font-weight: bold;\"> 2 Use slicing to extract a subarray containing the elements from index 2 to 6. </span> "
   ]
  },
  {
   "cell_type": "markdown",
   "metadata": {},
   "source": [
    "<span style=\"color:black;font-size: 20px; font-family: Arial; font-weight: bold;\"> 3 Multiply the subarray by 2 using broadcasting. </span> "
   ]
  },
  {
   "cell_type": "markdown",
   "metadata": {},
   "source": [
    "<span style=\"color:black;font-size: 20px; font-family: Arial; font-weight: bold;\"> 4 Create a 2D array with shape (4, 3) containing consecutive numbers starting from 1. </span> "
   ]
  },
  {
   "cell_type": "markdown",
   "metadata": {},
   "source": [
    " <span style=\"color:black;font-size: 20px; font-family: Arial; font-weight: bold;\"> 5 Slice the first two rows and the last two columns of the 2D array.</span> "
   ]
  },
  {
   "cell_type": "code",
   "execution_count": 5,
   "metadata": {},
   "outputs": [
    {
     "name": "stdout",
     "output_type": "stream",
     "text": [
      "Array 1: [ 1  2  3  4  5  6  7  8  9 10]\n",
      "Subarray: [3 4 5 6 7]\n",
      "Multiplied Subarray: [ 6  8 10 12 14]\n",
      "2D Array:\n",
      "[[ 1  2  3]\n",
      " [ 4  5  6]\n",
      " [ 7  8  9]\n",
      " [10 11 12]]\n",
      "Sliced Subarray 2D:\n",
      "[[2 3]\n",
      " [5 6]]\n"
     ]
    }
   ],
   "source": [
    "import numpy as np\n",
    "\n",
    "# Exercise 2\n",
    "array1 = np.array([1, 2, 3, 4, 5, 6, 7, 8, 9, 10])\n",
    "subarray = array1[2:7]\n",
    "multiplied_subarray = subarray * 2\n",
    "array2d = np.arange(1, 13).reshape(4, 3)\n",
    "sliced_subarray2d = array2d[:2, -2:]\n",
    "\n",
    "print(\"Array 1:\", array1)\n",
    "print(\"Subarray:\", subarray)\n",
    "print(\"Multiplied Subarray:\", multiplied_subarray)\n",
    "print(\"2D Array:\")\n",
    "print(array2d)\n",
    "print(\"Sliced Subarray 2D:\")\n",
    "print(sliced_subarray2d)\n"
   ]
  },
  {
   "cell_type": "code",
   "execution_count": null,
   "metadata": {},
   "outputs": [],
   "source": []
  }
 ],
 "metadata": {
  "kernelspec": {
   "display_name": "Python 3",
   "language": "python",
   "name": "python3"
  },
  "language_info": {
   "codemirror_mode": {
    "name": "ipython",
    "version": 3
   },
   "file_extension": ".py",
   "mimetype": "text/x-python",
   "name": "python",
   "nbconvert_exporter": "python",
   "pygments_lexer": "ipython3",
   "version": "3.8.5"
  },
  "toc": {
   "base_numbering": 1,
   "nav_menu": {},
   "number_sections": true,
   "sideBar": true,
   "skip_h1_title": false,
   "title_cell": "Table of Contents",
   "title_sidebar": "Contents",
   "toc_cell": false,
   "toc_position": {},
   "toc_section_display": true,
   "toc_window_display": false
  }
 },
 "nbformat": 4,
 "nbformat_minor": 5
}
