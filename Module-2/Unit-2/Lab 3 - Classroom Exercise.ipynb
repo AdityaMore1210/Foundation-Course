{
 "cells": [
  {
   "cell_type": "markdown",
   "metadata": {},
   "source": [
    "<span style=\"color:black;font-size: 30px; font-family: Arial; font-weight: bold;\">EDUNET FOUNDATION-Classroom Exercise Notebook</span>"
   ]
  },
  {
   "cell_type": "markdown",
   "metadata": {},
   "source": [
    "<span style=\"color:black;font-size: 30px; font-family: Arial; font-weight: bold;\"> Lab 3 - Working with structured array in NumPy </span>"
   ]
  },
  {
   "cell_type": "code",
   "execution_count": 4,
   "metadata": {},
   "outputs": [
    {
     "name": "stdout",
     "output_type": "stream",
     "text": [
      "[('Sana', 2, 21.) ('Mansi', 7, 29.)]\n"
     ]
    }
   ],
   "source": [
    "#Python program to demonstrate\n",
    "# Structured array\n",
    "import numpy as np\n",
    "a = np.array([('Sana', 2, 21.0), ('Mansi', 7, 29.0)], dtype=[('name', (np. str_, 10)), ('age', np.int32), ('weight', np.float64)])\n",
    "print(a)"
   ]
  },
  {
   "cell_type": "code",
   "execution_count": 2,
   "metadata": {},
   "outputs": [
    {
     "name": "stdout",
     "output_type": "stream",
     "text": [
      "Structured Array:\n",
      "[(b'Alice', 25, 60000.) (b'Bob', 30, 75000.) (b'Charlie', 22, 50000.)]\n",
      "\n",
      "Names: [b'Alice' b'Bob' b'Charlie']\n",
      "\n",
      "Updated Salary:\n",
      "[(b'Alice', 25, 66000.) (b'Bob', 30, 82500.) (b'Charlie', 22, 55000.)]\n"
     ]
    }
   ],
   "source": [
    "import numpy as np\n",
    "\n",
    "# Define the data types for the fields\n",
    "dt = np.dtype([('name', 'S20'), ('age', int), ('salary', float)])\n",
    "\n",
    "# Create a structured array with three elements\n",
    "data = np.array([('Alice', 25, 60000.0),\n",
    "                 ('Bob', 30, 75000.0),\n",
    "                 ('Charlie', 22, 50000.0)], dtype=dt)\n",
    "\n",
    "# Accessing and manipulating the structured array\n",
    "print(\"Structured Array:\")\n",
    "print(data)\n",
    "\n",
    "# Accessing a specific field of all elements\n",
    "print(\"\\nNames:\", data['name'])\n",
    "\n",
    "# Applying operations to a specific field\n",
    "data['salary'] *= 1.1\n",
    "\n",
    "print(\"\\nUpdated Salary:\")\n",
    "print(data)\n"
   ]
  },
  {
   "cell_type": "code",
   "execution_count": 3,
   "metadata": {},
   "outputs": [
    {
     "name": "stdout",
     "output_type": "stream",
     "text": [
      "[('Raj Sharma', 28, 70000, 'Python Developer')\n",
      " ('Kanchan Kashyap', 25, 60000, 'Digital Marketer')\n",
      " ('Mukul Sinha', 26, 52500, 'Software Engineer')]\n"
     ]
    }
   ],
   "source": [
    "import numpy as np\n",
    " \n",
    "# Calling dtype() constructor and filling it with desired tuples:\n",
    "t = np.dtype([('empname', 'U40'), \n",
    "              ('age', 'u1'), \n",
    "              ('salary', 'u4'), \n",
    "              ('designation', 'U30')])\n",
    " \n",
    "# Creating a structured array by using our dtype:\n",
    "arr = np.array([('Raj Sharma', 28, 70000, 'Python Developer'), \n",
    "                ('Kanchan Kashyap', 25, 60000, 'Digital Marketer'), \n",
    "                ('Mukul Sinha', 26, 52500, 'Software Engineer')], dtype=t)\n",
    "                \n",
    "print(arr)\n"
   ]
  },
  {
   "cell_type": "code",
   "execution_count": null,
   "metadata": {},
   "outputs": [],
   "source": []
  }
 ],
 "metadata": {
  "kernelspec": {
   "display_name": "Python 3",
   "language": "python",
   "name": "python3"
  },
  "language_info": {
   "codemirror_mode": {
    "name": "ipython",
    "version": 3
   },
   "file_extension": ".py",
   "mimetype": "text/x-python",
   "name": "python",
   "nbconvert_exporter": "python",
   "pygments_lexer": "ipython3",
   "version": "3.8.5"
  },
  "toc": {
   "base_numbering": 1,
   "nav_menu": {},
   "number_sections": true,
   "sideBar": true,
   "skip_h1_title": false,
   "title_cell": "Table of Contents",
   "title_sidebar": "Contents",
   "toc_cell": false,
   "toc_position": {},
   "toc_section_display": true,
   "toc_window_display": false
  }
 },
 "nbformat": 4,
 "nbformat_minor": 5
}
