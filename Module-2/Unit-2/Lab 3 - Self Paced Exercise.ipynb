{
 "cells": [
  {
   "cell_type": "markdown",
   "metadata": {},
   "source": [
    "<span style=\"color:black;font-size: 30px; font-family: Arial; font-weight: bold;\"> EDUNET FOUNDATION-Self Practice Notebook</span>"
   ]
  },
  {
   "cell_type": "markdown",
   "metadata": {},
   "source": [
    "<span style=\"color:black;font-size: 30px; font-family: Arial; font-weight: bold;\"> Lab 3 - Working with structured array in NumPy </span>"
   ]
  },
  {
   "cell_type": "markdown",
   "metadata": {},
   "source": [
    "<span style=\"color:black;font-size: 25px; font-family: Arial; font-weight: bold;\"> Problem 1: Creating a Structured Array. </span>"
   ]
  },
  {
   "cell_type": "markdown",
   "metadata": {},
   "source": [
    "<span style=\"color:black;font-size: 20px; font-family: Arial; font-weight: bold;\">1 Create a structured data type with fields: 'name' (string), 'age' (integer), and 'weight' (float). </span> "
   ]
  },
  {
   "cell_type": "markdown",
   "metadata": {},
   "source": [
    "<span style=\"color:black;font-size: 20px; font-family: Arial; font-weight: bold;\"> 2 Create a structured array with information for two people: ('Alice', 25, 60.5) and ('Bob', 30, 70.2). </span> "
   ]
  },
  {
   "cell_type": "code",
   "execution_count": null,
   "metadata": {},
   "outputs": [],
   "source": []
  },
  {
   "cell_type": "markdown",
   "metadata": {},
   "source": [
    "<span style=\"color:black;font-size: 25px; font-family: Arial; font-weight: bold;\"> Problem 2: Accessing and Slicing Structured Array. </span>"
   ]
  },
  {
   "cell_type": "markdown",
   "metadata": {},
   "source": [
    "<span style=\"color:black;font-size: 20px; font-family: Arial; font-weight: bold;\">1 Using the structured array from Exercise 1, print the age of the first person. </span> "
   ]
  },
  {
   "cell_type": "markdown",
   "metadata": {},
   "source": [
    "<span style=\"color:black;font-size: 20px; font-family: Arial; font-weight: bold;\"> 2 Slice the structured array to get information about the second person. </span> "
   ]
  },
  {
   "cell_type": "code",
   "execution_count": null,
   "metadata": {},
   "outputs": [],
   "source": []
  }
 ],
 "metadata": {
  "kernelspec": {
   "display_name": "Python 3",
   "language": "python",
   "name": "python3"
  },
  "language_info": {
   "codemirror_mode": {
    "name": "ipython",
    "version": 3
   },
   "file_extension": ".py",
   "mimetype": "text/x-python",
   "name": "python",
   "nbconvert_exporter": "python",
   "pygments_lexer": "ipython3",
   "version": "3.8.5"
  },
  "toc": {
   "base_numbering": 1,
   "nav_menu": {},
   "number_sections": true,
   "sideBar": true,
   "skip_h1_title": false,
   "title_cell": "Table of Contents",
   "title_sidebar": "Contents",
   "toc_cell": false,
   "toc_position": {},
   "toc_section_display": true,
   "toc_window_display": false
  }
 },
 "nbformat": 4,
 "nbformat_minor": 5
}
