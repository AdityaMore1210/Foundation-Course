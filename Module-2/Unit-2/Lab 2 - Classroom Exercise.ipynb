{
 "cells": [
  {
   "cell_type": "markdown",
   "metadata": {},
   "source": [
    "<span style=\"color:black;font-size: 30px; font-family: Arial; font-weight: bold;\">EDUNET FOUNDATION-Classroom Exercise Notebook</span>"
   ]
  },
  {
   "cell_type": "markdown",
   "metadata": {},
   "source": [
    "<span style=\"color:black;font-size: 30px; font-family: Arial; font-weight: bold;\"> Lab 2: Perform Indexing , Slicing and Broadcasting in NumPy </span>"
   ]
  },
  {
   "cell_type": "markdown",
   "metadata": {},
   "source": [
    "<span style=\"color:black;font-size: 25px; font-family: Arial; font-weight: bold;\"> Program 1 -  Indexing in NumPy</span>"
   ]
  },
  {
   "cell_type": "code",
   "execution_count": 3,
   "metadata": {},
   "outputs": [
    {
     "name": "stdout",
     "output_type": "stream",
     "text": [
      "Elements of array:  [1 3 5 7 9]\n",
      "Indexed Elements of array arr:  [9 1 5 9 7]\n"
     ]
    }
   ],
   "source": [
    "import numpy as np\n",
    "arr=np.arange(1,10,2) \n",
    "print(\"Elements of array: \",arr)\n",
    "arr1=arr[np.array([4,0,2,-1,-2])]\n",
    "print(\"Indexed Elements of array arr: \",arr1)"
   ]
  },
  {
   "cell_type": "markdown",
   "metadata": {},
   "source": [
    "<span style=\"color:black;font-size: 15px; font-family: Arial; font-weight: bold;\"> Indexing in 1 dimension </span>"
   ]
  },
  {
   "cell_type": "code",
   "execution_count": 4,
   "metadata": {},
   "outputs": [
    {
     "name": "stdout",
     "output_type": "stream",
     "text": [
      "Array arr11: [0 1 2 3]\n",
      "Element at index 0 of arri is:  0\n",
      "Element at index 1 of arr1 is:  1\n"
     ]
    }
   ],
   "source": [
    "import numpy as np \n",
    "arr1=np.arange(4)\n",
    "print(\"Array arr11:\",arr1)\n",
    "print(\"Element at index 0 of arri is: \", arr1[0])\n",
    "print(\"Element at index 1 of arr1 is: \", arr1[1])"
   ]
  },
  {
   "cell_type": "markdown",
   "metadata": {},
   "source": [
    "<span style=\"color:black;font-size: 15px; font-family: Arial; font-weight: bold;\"> Indexing in 2 Dimensions </span>"
   ]
  },
  {
   "cell_type": "code",
   "execution_count": 5,
   "metadata": {},
   "outputs": [
    {
     "name": "stdout",
     "output_type": "stream",
     "text": [
      "Array arr1:\n",
      " [[ 0  1  2  3]\n",
      " [ 4  5  6  7]\n",
      " [ 8  9 10 11]]\n",
      "Element at eth row and eth column of arr1 is: 0\n",
      "Element at 1st row and 2nd column of arr1 is: 6\n"
     ]
    }
   ],
   "source": [
    "import numpy as np\n",
    "arr=np.arange(12)\n",
    "arr1=arr.reshape(3,4)\n",
    "print(\"Array arr1:\\n\",arr1)\n",
    "print(\"Element at eth row and eth column of arr1 is:\",arr1[0,0]) \n",
    "print(\"Element at 1st row and 2nd column of arr1 is:\", arr1[1,2])"
   ]
  },
  {
   "cell_type": "markdown",
   "metadata": {},
   "source": [
    "<span style=\"color:black;font-size: 15px; font-family: Arial; font-weight: bold;\"> Indexing in 3 Dimensions </span>"
   ]
  },
  {
   "cell_type": "code",
   "execution_count": 6,
   "metadata": {},
   "outputs": [
    {
     "name": "stdout",
     "output_type": "stream",
     "text": [
      "Array arr1:\n",
      " [[[ 0  1  2]\n",
      "  [ 3  4  5]]\n",
      "\n",
      " [[ 6  7  8]\n",
      "  [ 9 10 11]]]\n",
      "Element: 8\n"
     ]
    }
   ],
   "source": [
    "import numpy as np \n",
    "arr=np.arange(12) \n",
    "arr1=arr.reshape(2,2,3)\n",
    "print(\"Array arr1:\\n\", arr1) \n",
    "print(\"Element:\", arr1[1,0,2])"
   ]
  },
  {
   "cell_type": "markdown",
   "metadata": {},
   "source": [
    "<span style=\"color:black;font-size: 25px; font-family: Arial; font-weight: bold;\"> Program 2 - Slicing an Array </span>"
   ]
  },
  {
   "cell_type": "markdown",
   "metadata": {},
   "source": [
    "<span style=\"color:black;font-size: 15px; font-family: Arial; font-weight: bold;\"> Slicing 1D NumPy Arrays </span>"
   ]
  },
  {
   "cell_type": "code",
   "execution_count": 7,
   "metadata": {},
   "outputs": [
    {
     "name": "stdout",
     "output_type": "stream",
     "text": [
      "array arr: [0 1 2 3 4 5]\n",
      "sliced element of array:  [1 2 3 4]\n"
     ]
    }
   ],
   "source": [
    "import numpy as np\n",
    "arr = np.arange(6)\n",
    "print(\"array arr:\",arr) \n",
    "print(\"sliced element of array: \", arr[1:5])"
   ]
  },
  {
   "cell_type": "markdown",
   "metadata": {},
   "source": [
    "<span style=\"color:black;font-size: 15px; font-family: Arial; font-weight: bold;\"> Slicing 2D NumPy Arrays </span>"
   ]
  },
  {
   "cell_type": "code",
   "execution_count": 8,
   "metadata": {},
   "outputs": [
    {
     "name": "stdout",
     "output_type": "stream",
     "text": [
      "Array arr1: \n",
      " [[ 0  1  2  3]\n",
      " [ 4  5  6  7]\n",
      " [ 8  9 10 11]]\n",
      "\n",
      "\n",
      "elements of 1st row and 1st column upto last column \n",
      " [[ 5  6  7]\n",
      " [ 9 10 11]]\n"
     ]
    }
   ],
   "source": [
    "import numpy as np\n",
    "arr =np.arange(12)\n",
    "arr1=arr.reshape(3,4)\n",
    "print(\"Array arr1: \\n\",arr1)\n",
    "print(\"\\n\")\n",
    "print(\"elements of 1st row and 1st column upto last column \\n\", arr1[1:,1:4])"
   ]
  },
  {
   "cell_type": "markdown",
   "metadata": {},
   "source": [
    "<span style=\"color:black;font-size: 25px; font-family: Arial; font-weight: bold;\"> Program 3 - NumPy broadcasting </span>"
   ]
  },
  {
   "cell_type": "code",
   "execution_count": 9,
   "metadata": {},
   "outputs": [
    {
     "name": "stdout",
     "output_type": "stream",
     "text": [
      "Original Array:\n",
      "[[1 2 3]\n",
      " [4 5 6]\n",
      " [7 8 9]]\n",
      "\n",
      "Result after Broadcasting:\n",
      "[[11 12 13]\n",
      " [14 15 16]\n",
      " [17 18 19]]\n"
     ]
    }
   ],
   "source": [
    "import numpy as np\n",
    "\n",
    "# Create a 3x3 array\n",
    "arr = np.array([[1, 2, 3],\n",
    "                [4, 5, 6],\n",
    "                [7, 8, 9]])\n",
    "\n",
    "# Add a scalar to the array\n",
    "scalar = 10\n",
    "result = arr + scalar\n",
    "\n",
    "print(\"Original Array:\")\n",
    "print(arr)\n",
    "print(\"\\nResult after Broadcasting:\")\n",
    "print(result)"
   ]
  },
  {
   "cell_type": "code",
   "execution_count": null,
   "metadata": {},
   "outputs": [],
   "source": []
  }
 ],
 "metadata": {
  "kernelspec": {
   "display_name": "Python 3",
   "language": "python",
   "name": "python3"
  },
  "language_info": {
   "codemirror_mode": {
    "name": "ipython",
    "version": 3
   },
   "file_extension": ".py",
   "mimetype": "text/x-python",
   "name": "python",
   "nbconvert_exporter": "python",
   "pygments_lexer": "ipython3",
   "version": "3.8.5"
  },
  "toc": {
   "base_numbering": 1,
   "nav_menu": {},
   "number_sections": true,
   "sideBar": true,
   "skip_h1_title": false,
   "title_cell": "Table of Contents",
   "title_sidebar": "Contents",
   "toc_cell": false,
   "toc_position": {},
   "toc_section_display": true,
   "toc_window_display": false
  }
 },
 "nbformat": 4,
 "nbformat_minor": 5
}
