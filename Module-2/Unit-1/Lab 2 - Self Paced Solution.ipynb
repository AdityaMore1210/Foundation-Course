{
 "cells": [
  {
   "cell_type": "markdown",
   "metadata": {},
   "source": [
    "\n",
    "# EDUNET FOUNDATION-Self Practice Solution Notebook"
   ]
  },
  {
   "cell_type": "markdown",
   "metadata": {},
   "source": [
    "## Lab 2 - Excercise-1"
   ]
  },
  {
   "cell_type": "markdown",
   "metadata": {},
   "source": [
    "<ul>\n",
    "    <li>Create Database named as Hollywood_db and Collection Named as moives and insert the data </li>\n",
    " </ul>"
   ]
  },
  {
   "cell_type": "code",
   "execution_count": 1,
   "metadata": {},
   "outputs": [],
   "source": [
    "import pymongo"
   ]
  },
  {
   "cell_type": "code",
   "execution_count": 2,
   "metadata": {},
   "outputs": [],
   "source": [
    "myclient = pymongo.MongoClient(\"mongodb://localhost:27017/\")"
   ]
  },
  {
   "cell_type": "code",
   "execution_count": 3,
   "metadata": {},
   "outputs": [],
   "source": [
    "Hollywood_db=myclient['Hollywood_db']"
   ]
  },
  {
   "cell_type": "code",
   "execution_count": 4,
   "metadata": {},
   "outputs": [
    {
     "data": {
      "text/plain": [
       "[]"
      ]
     },
     "execution_count": 4,
     "metadata": {},
     "output_type": "execute_result"
    }
   ],
   "source": [
    "Hollywood_db.list_collection_names()"
   ]
  },
  {
   "cell_type": "code",
   "execution_count": 5,
   "metadata": {},
   "outputs": [],
   "source": [
    "movies = Hollywood_db['movies']"
   ]
  },
  {
   "cell_type": "code",
   "execution_count": 6,
   "metadata": {},
   "outputs": [],
   "source": [
    "document = {\"title\":\"Fight Club\", \"writer\": \"Chuck Palahniuk\", \"year\": 1999, \"actors\":[\"Brad Pitt\", \"Edward Norton\"]}"
   ]
  },
  {
   "cell_type": "code",
   "execution_count": 7,
   "metadata": {},
   "outputs": [
    {
     "data": {
      "text/plain": [
       "<pymongo.results.InsertOneResult at 0x1c6be78dcd0>"
      ]
     },
     "execution_count": 7,
     "metadata": {},
     "output_type": "execute_result"
    }
   ],
   "source": [
    "movies.insert_one(document)"
   ]
  },
  {
   "cell_type": "code",
   "execution_count": 8,
   "metadata": {},
   "outputs": [
    {
     "name": "stdout",
     "output_type": "stream",
     "text": [
      "Hollywood_db\n",
      "admin\n",
      "config\n",
      "local\n",
      "movies_db\n",
      "tcs_db\n"
     ]
    }
   ],
   "source": [
    "for db in myclient.list_database_names():\n",
    "    print(db)"
   ]
  },
  {
   "cell_type": "code",
   "execution_count": 9,
   "metadata": {},
   "outputs": [],
   "source": [
    "movies_doc=[\n",
    "    {\"title\":\"Pulp Fiction\", \"writer\":\"Quentin Tarantino\", \"year\":2009, \"actors\":[\"John Travolta\", \"Uma Thurman\"]},\n",
    "    {\"title\":\"Inglorious Basterds\", \"writer\":\"Quentin Tarantino\", \"year\":2009, \"actors\":[\"Brad Pitt\", \"Diane Kruger\", \"Eli Roth\"]},\n",
    "    {\"title\":\"The Hobbit: An unexpected Journey\", \"writer\":\"J.R.R. Tolkein\", \"year\":2012,\"franchise\":\"The Hobbit\"}\n",
    "    \n",
    "]"
   ]
  },
  {
   "cell_type": "code",
   "execution_count": 10,
   "metadata": {},
   "outputs": [
    {
     "data": {
      "text/plain": [
       "<pymongo.results.InsertManyResult at 0x1c6be7bd7f0>"
      ]
     },
     "execution_count": 10,
     "metadata": {},
     "output_type": "execute_result"
    }
   ],
   "source": [
    "movies.insert_many(movies_doc)"
   ]
  },
  {
   "cell_type": "markdown",
   "metadata": {},
   "source": [
    "# Lab 2 - Excercise-2"
   ]
  },
  {
   "cell_type": "markdown",
   "metadata": {},
   "source": [
    "<ul>\n",
    "    <li>Perform Read Update and Delete Operation on created Database </li>\n",
    " </ul>"
   ]
  },
  {
   "cell_type": "markdown",
   "metadata": {},
   "source": [
    "### Reading Documents"
   ]
  },
  {
   "cell_type": "code",
   "execution_count": 11,
   "metadata": {},
   "outputs": [],
   "source": [
    "results=movies.find()"
   ]
  },
  {
   "cell_type": "code",
   "execution_count": 12,
   "metadata": {
    "scrolled": true
   },
   "outputs": [
    {
     "name": "stdout",
     "output_type": "stream",
     "text": [
      "{'_id': ObjectId('64e5a93d2e2b7ead27f2eabc'), 'title': 'Fight Club', 'writer': 'Chuck Palahniuk', 'year': 1999, 'actors': ['Brad Pitt', 'Edward Norton']}\n",
      "{'_id': ObjectId('64e5a93d2e2b7ead27f2eabd'), 'title': 'Pulp Fiction', 'writer': 'Quentin Tarantino', 'year': 2009, 'actors': ['John Travolta', 'Uma Thurman']}\n",
      "{'_id': ObjectId('64e5a93d2e2b7ead27f2eabe'), 'title': 'Inglorious Basterds', 'writer': 'Quentin Tarantino', 'year': 2009, 'actors': ['Brad Pitt', 'Diane Kruger', 'Eli Roth']}\n",
      "{'_id': ObjectId('64e5a93d2e2b7ead27f2eabf'), 'title': 'The Hobbit: An unexpected Journey', 'writer': 'J.R.R. Tolkein', 'year': 2012, 'franchise': 'The Hobbit'}\n"
     ]
    }
   ],
   "source": [
    "for data in results:\n",
    "    print(data)"
   ]
  },
  {
   "cell_type": "markdown",
   "metadata": {},
   "source": [
    "### Reading Specific One document"
   ]
  },
  {
   "cell_type": "code",
   "execution_count": 13,
   "metadata": {},
   "outputs": [
    {
     "data": {
      "text/plain": [
       "{'_id': ObjectId('64e5a93d2e2b7ead27f2eabc'),\n",
       " 'title': 'Fight Club',\n",
       " 'writer': 'Chuck Palahniuk',\n",
       " 'year': 1999,\n",
       " 'actors': ['Brad Pitt', 'Edward Norton']}"
      ]
     },
     "execution_count": 13,
     "metadata": {},
     "output_type": "execute_result"
    }
   ],
   "source": [
    "movies.find_one()"
   ]
  },
  {
   "cell_type": "code",
   "execution_count": 14,
   "metadata": {},
   "outputs": [
    {
     "data": {
      "text/plain": [
       "{'_id': ObjectId('64e5a93d2e2b7ead27f2eabd'),\n",
       " 'title': 'Pulp Fiction',\n",
       " 'writer': 'Quentin Tarantino',\n",
       " 'year': 2009,\n",
       " 'actors': ['John Travolta', 'Uma Thurman']}"
      ]
     },
     "execution_count": 14,
     "metadata": {},
     "output_type": "execute_result"
    }
   ],
   "source": [
    "movies.find_one({\"title\":\"Pulp Fiction\"})"
   ]
  },
  {
   "cell_type": "markdown",
   "metadata": {},
   "source": [
    "### Retrieving only title of movie whose year is 2009"
   ]
  },
  {
   "cell_type": "code",
   "execution_count": 15,
   "metadata": {},
   "outputs": [],
   "source": [
    "res2 = movies.find({\"year\":2009},{\"title\":1})"
   ]
  },
  {
   "cell_type": "code",
   "execution_count": 16,
   "metadata": {},
   "outputs": [
    {
     "name": "stdout",
     "output_type": "stream",
     "text": [
      "{'_id': ObjectId('64e5a93d2e2b7ead27f2eabd'), 'title': 'Pulp Fiction'}\n",
      "{'_id': ObjectId('64e5a93d2e2b7ead27f2eabe'), 'title': 'Inglorious Basterds'}\n"
     ]
    }
   ],
   "source": [
    "for data in res2:\n",
    "    print(data)"
   ]
  },
  {
   "cell_type": "code",
   "execution_count": 17,
   "metadata": {},
   "outputs": [],
   "source": [
    "res1 = movies.find({\"year\":2009},{\"_id\":0})"
   ]
  },
  {
   "cell_type": "code",
   "execution_count": 18,
   "metadata": {},
   "outputs": [
    {
     "name": "stdout",
     "output_type": "stream",
     "text": [
      "{'title': 'Pulp Fiction', 'writer': 'Quentin Tarantino', 'year': 2009, 'actors': ['John Travolta', 'Uma Thurman']}\n",
      "{'title': 'Inglorious Basterds', 'writer': 'Quentin Tarantino', 'year': 2009, 'actors': ['Brad Pitt', 'Diane Kruger', 'Eli Roth']}\n"
     ]
    }
   ],
   "source": [
    "for data1 in res1:\n",
    "    print(data1)"
   ]
  },
  {
   "cell_type": "markdown",
   "metadata": {},
   "source": [
    "### Updating Document"
   ]
  },
  {
   "cell_type": "code",
   "execution_count": 19,
   "metadata": {},
   "outputs": [
    {
     "data": {
      "text/plain": [
       "<pymongo.results.UpdateResult at 0x1c6be7bd460>"
      ]
     },
     "execution_count": 19,
     "metadata": {},
     "output_type": "execute_result"
    }
   ],
   "source": [
    "movies.update_many({\"writer\":\"Quentin Tarantino\"},{\"$set\":{\"writer\":\"Quentin Tarantino Junior\"}})"
   ]
  },
  {
   "cell_type": "code",
   "execution_count": 20,
   "metadata": {},
   "outputs": [],
   "source": [
    "update_results=movies.find()"
   ]
  },
  {
   "cell_type": "code",
   "execution_count": 21,
   "metadata": {},
   "outputs": [
    {
     "name": "stdout",
     "output_type": "stream",
     "text": [
      "{'_id': ObjectId('64e5a93d2e2b7ead27f2eabc'), 'title': 'Fight Club', 'writer': 'Chuck Palahniuk', 'year': 1999, 'actors': ['Brad Pitt', 'Edward Norton']}\n",
      "{'_id': ObjectId('64e5a93d2e2b7ead27f2eabd'), 'title': 'Pulp Fiction', 'writer': 'Quentin Tarantino Junior', 'year': 2009, 'actors': ['John Travolta', 'Uma Thurman']}\n",
      "{'_id': ObjectId('64e5a93d2e2b7ead27f2eabe'), 'title': 'Inglorious Basterds', 'writer': 'Quentin Tarantino Junior', 'year': 2009, 'actors': ['Brad Pitt', 'Diane Kruger', 'Eli Roth']}\n",
      "{'_id': ObjectId('64e5a93d2e2b7ead27f2eabf'), 'title': 'The Hobbit: An unexpected Journey', 'writer': 'J.R.R. Tolkein', 'year': 2012, 'franchise': 'The Hobbit'}\n"
     ]
    }
   ],
   "source": [
    "for U_data in update_results:\n",
    "    print(U_data)"
   ]
  },
  {
   "cell_type": "markdown",
   "metadata": {},
   "source": [
    "### Deleting Documents"
   ]
  },
  {
   "cell_type": "code",
   "execution_count": 22,
   "metadata": {},
   "outputs": [
    {
     "data": {
      "text/plain": [
       "<pymongo.results.DeleteResult at 0x1c6be7b53d0>"
      ]
     },
     "execution_count": 22,
     "metadata": {},
     "output_type": "execute_result"
    }
   ],
   "source": [
    "movies.delete_one({\"title\":\"The Hobbit: An unexpected Journey\"})"
   ]
  },
  {
   "cell_type": "code",
   "execution_count": 23,
   "metadata": {},
   "outputs": [],
   "source": [
    "update_result1=movies.find()"
   ]
  },
  {
   "cell_type": "code",
   "execution_count": 24,
   "metadata": {},
   "outputs": [
    {
     "name": "stdout",
     "output_type": "stream",
     "text": [
      "{'_id': ObjectId('64e5a93d2e2b7ead27f2eabc'), 'title': 'Fight Club', 'writer': 'Chuck Palahniuk', 'year': 1999, 'actors': ['Brad Pitt', 'Edward Norton']}\n",
      "{'_id': ObjectId('64e5a93d2e2b7ead27f2eabd'), 'title': 'Pulp Fiction', 'writer': 'Quentin Tarantino Junior', 'year': 2009, 'actors': ['John Travolta', 'Uma Thurman']}\n",
      "{'_id': ObjectId('64e5a93d2e2b7ead27f2eabe'), 'title': 'Inglorious Basterds', 'writer': 'Quentin Tarantino Junior', 'year': 2009, 'actors': ['Brad Pitt', 'Diane Kruger', 'Eli Roth']}\n"
     ]
    }
   ],
   "source": [
    "for U_data1 in update_result1:\n",
    "    print(U_data1)"
   ]
  },
  {
   "cell_type": "markdown",
   "metadata": {},
   "source": [
    "### Droping / Deleting Collection"
   ]
  },
  {
   "cell_type": "code",
   "execution_count": 25,
   "metadata": {},
   "outputs": [],
   "source": [
    "movies.drop()"
   ]
  },
  {
   "cell_type": "code",
   "execution_count": 26,
   "metadata": {},
   "outputs": [
    {
     "data": {
      "text/plain": [
       "[]"
      ]
     },
     "execution_count": 26,
     "metadata": {},
     "output_type": "execute_result"
    }
   ],
   "source": [
    "Hollywood_db.list_collection_names()"
   ]
  },
  {
   "cell_type": "markdown",
   "metadata": {},
   "source": [
    "### Droping / Deleting Database\n"
   ]
  },
  {
   "cell_type": "code",
   "execution_count": 27,
   "metadata": {},
   "outputs": [],
   "source": [
    "myclient.drop_database(\"Hollywood_db\")"
   ]
  }
 ],
 "metadata": {
  "kernelspec": {
   "display_name": "Python 3",
   "language": "python",
   "name": "python3"
  },
  "language_info": {
   "codemirror_mode": {
    "name": "ipython",
    "version": 3
   },
   "file_extension": ".py",
   "mimetype": "text/x-python",
   "name": "python",
   "nbconvert_exporter": "python",
   "pygments_lexer": "ipython3",
   "version": "3.8.5"
  }
 },
 "nbformat": 4,
 "nbformat_minor": 5
}
