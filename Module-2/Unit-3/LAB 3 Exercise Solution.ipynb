{
 "cells": [
  {
   "cell_type": "markdown",
   "id": "77f3774e",
   "metadata": {},
   "source": [
    "<span style=\"color:black;font-size: 30px; font-family: Arial; font-weight: bold;\"> EDUNET FOUNDATION-Self Practice Solution Notebook</span>"
   ]
  },
  {
   "cell_type": "markdown",
   "id": "a202cedc",
   "metadata": {},
   "source": [
    "<span style=\"color:black;font-size: 25px; font-family: Arial; font-weight: bold;\"> Lab 3: Solutions Notebook</span>"
   ]
  },
  {
   "cell_type": "markdown",
   "id": "c90d5229",
   "metadata": {},
   "source": [
    "<span style=\"color:black;font-size: 25px; font-family: Arial; font-weight: bold;\"> Program 1 - Uppercase and Lowercase Conversion"
   ]
  },
  {
   "cell_type": "markdown",
   "id": "d677cf23",
   "metadata": {},
   "source": [
    "<span style=\"color:black;font-size: 25px; font-family: Arial; font-weight: bold;\"> 1 - Create a Pandas Series with the following data:\n",
    "</span>"
   ]
  },
  {
   "cell_type": "markdown",
   "id": "65603803",
   "metadata": {},
   "source": [
    "Index: 'Alice', 'Bob', 'Charlie'"
   ]
  },
  {
   "cell_type": "markdown",
   "id": "c8f7a070",
   "metadata": {},
   "source": [
    "Values: 'New York', 'Los Angeles', 'Chicago'"
   ]
  },
  {
   "cell_type": "markdown",
   "id": "28632efc",
   "metadata": {},
   "source": [
    "<span style=\"color:black;font-size: 25px; font-family: Arial; font-weight: bold;\"> 2 - Convert the city names to uppercase and print the result.\n",
    "</span>"
   ]
  },
  {
   "cell_type": "markdown",
   "id": "3b06190f",
   "metadata": {},
   "source": [
    "<span style=\"color:black;font-size: 25px; font-family: Arial; font-weight: bold;\"> 3 - Convert the city names to lowercase and print the result.\n",
    "</span>"
   ]
  },
  {
   "cell_type": "code",
   "execution_count": 3,
   "id": "23b573b0",
   "metadata": {},
   "outputs": [
    {
     "name": "stdout",
     "output_type": "stream",
     "text": [
      "Uppercase Cities:\n",
      "Alice         NEW YORK\n",
      "Bob        LOS ANGELES\n",
      "Charlie        CHICAGO\n",
      "dtype: object\n",
      "Lowercase Cities:\n",
      "Alice         new york\n",
      "Bob        los angeles\n",
      "Charlie        chicago\n",
      "dtype: object\n"
     ]
    }
   ],
   "source": [
    "import pandas as pd\n",
    "\n",
    "cities_series = pd.Series(['New York', 'Los Angeles', 'Chicago'], index=['Alice', 'Bob', 'Charlie'])\n",
    "uppercased_cities = cities_series.str.upper()\n",
    "lowercased_cities = cities_series.str.lower()\n",
    "\n",
    "print(\"Uppercase Cities:\")\n",
    "print(uppercased_cities)\n",
    "print(\"Lowercase Cities:\")\n",
    "print(lowercased_cities)\n"
   ]
  },
  {
   "cell_type": "markdown",
   "id": "307d06cf",
   "metadata": {},
   "source": [
    "<span style=\"color:black;font-size: 25px; font-family: Arial; font-weight: bold;\"> Program 2 - Basic Statistical Calculations"
   ]
  },
  {
   "cell_type": "markdown",
   "id": "3fd0eebf",
   "metadata": {},
   "source": [
    "<span style=\"color:black;font-size: 25px; font-family: Arial; font-weight: bold;\"> 1 - Create a Pandas Series with the following data:\n",
    "</span>"
   ]
  },
  {
   "cell_type": "markdown",
   "id": "f2bb8eae",
   "metadata": {},
   "source": [
    "Values: 12, 18, 25, 30, 15, 21"
   ]
  },
  {
   "cell_type": "markdown",
   "id": "540c5a80",
   "metadata": {},
   "source": [
    "<span style=\"color:black;font-size: 25px; font-family: Arial; font-weight: bold;\"> 2 - Calculate and print the mean, median, standard deviation, maximum, and minimum of the Series.\n",
    "</span>"
   ]
  },
  {
   "cell_type": "code",
   "execution_count": 4,
   "id": "7a4811ab",
   "metadata": {},
   "outputs": [
    {
     "name": "stdout",
     "output_type": "stream",
     "text": [
      "Mean: 20.166666666666668\n",
      "Median: 19.5\n",
      "Standard Deviation: 6.6156380392723015\n",
      "Maximum: 30\n",
      "Minimum: 12\n"
     ]
    }
   ],
   "source": [
    "import pandas as pd\n",
    "\n",
    "data = [12, 18, 25, 30, 15, 21]\n",
    "series = pd.Series(data)\n",
    "mean = series.mean()\n",
    "median = series.median()\n",
    "std_dev = series.std()\n",
    "max_val = series.max()\n",
    "min_val = series.min()\n",
    "\n",
    "print(\"Mean:\", mean)\n",
    "print(\"Median:\", median)\n",
    "print(\"Standard Deviation:\", std_dev)\n",
    "print(\"Maximum:\", max_val)\n",
    "print(\"Minimum:\", min_val)\n"
   ]
  },
  {
   "cell_type": "code",
   "execution_count": null,
   "id": "a29ced77",
   "metadata": {},
   "outputs": [],
   "source": []
  }
 ],
 "metadata": {
  "kernelspec": {
   "display_name": "Python 3 (ipykernel)",
   "language": "python",
   "name": "python3"
  },
  "language_info": {
   "codemirror_mode": {
    "name": "ipython",
    "version": 3
   },
   "file_extension": ".py",
   "mimetype": "text/x-python",
   "name": "python",
   "nbconvert_exporter": "python",
   "pygments_lexer": "ipython3",
   "version": "3.9.12"
  },
  "toc": {
   "base_numbering": 1,
   "nav_menu": {},
   "number_sections": true,
   "sideBar": true,
   "skip_h1_title": false,
   "title_cell": "Table of Contents",
   "title_sidebar": "Contents",
   "toc_cell": false,
   "toc_position": {},
   "toc_section_display": true,
   "toc_window_display": false
  }
 },
 "nbformat": 4,
 "nbformat_minor": 5
}
