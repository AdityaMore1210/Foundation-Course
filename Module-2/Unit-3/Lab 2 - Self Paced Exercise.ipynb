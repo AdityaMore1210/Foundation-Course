{
 "cells": [
  {
   "cell_type": "markdown",
   "metadata": {},
   "source": [
    "<span style=\"color:black;font-size: 30px; font-family: Arial; font-weight: bold;\"> EDUNET FOUNDATION-Self Practice Notebook</span>"
   ]
  },
  {
   "cell_type": "markdown",
   "metadata": {},
   "source": [
    "<span style=\"color:black;font-size: 30px; font-family: Arial; font-weight: bold;\"> Lab 2 -   Perform Selection , Reindexing and sorting in Pandas </span>"
   ]
  },
  {
   "cell_type": "markdown",
   "metadata": {},
   "source": [
    "<span style=\"color:black;font-size: 25px; font-family: Arial; font-weight: bold;\"> Program 1 - Selection in a DataFrame\n",
    "</span>"
   ]
  },
  {
   "cell_type": "markdown",
   "metadata": {},
   "source": [
    "<span style=\"color:black;font-size: 25px; font-family: Arial; font-weight: bold;\"> 1 - Create a DataFrame with the following data:\n",
    "</span>"
   ]
  },
  {
   "cell_type": "markdown",
   "metadata": {},
   "source": [
    "Columns: 'Name', 'Age', 'City'"
   ]
  },
  {
   "cell_type": "markdown",
   "metadata": {},
   "source": [
    "Rows: ['Alice', 25, 'New York'], ['Bob', 30, 'Los Angeles'], ['Charlie', 28, 'Chicago']"
   ]
  },
  {
   "cell_type": "markdown",
   "metadata": {},
   "source": [
    "<span style=\"color:black;font-size: 25px; font-family: Arial; font-weight: bold;\"> 2 - Print the 'Name' column of the DataFrame.\n",
    "</span>"
   ]
  },
  {
   "cell_type": "code",
   "execution_count": null,
   "metadata": {},
   "outputs": [],
   "source": []
  },
  {
   "cell_type": "markdown",
   "metadata": {},
   "source": [
    "<span style=\"color:black;font-size: 25px; font-family: Arial; font-weight: bold;\"> Program 2 - Reindexing a Series</span>"
   ]
  },
  {
   "cell_type": "markdown",
   "metadata": {},
   "source": [
    "<span style=\"color:black;font-size: 25px; font-family: Arial; font-weight: bold;\"> 1 -Create a Pandas Series with the following data:\n",
    "</span>"
   ]
  },
  {
   "cell_type": "markdown",
   "metadata": {},
   "source": [
    "Index: 'a', 'b', 'c'"
   ]
  },
  {
   "cell_type": "markdown",
   "metadata": {},
   "source": [
    "Values: 10, 20, 30"
   ]
  },
  {
   "cell_type": "markdown",
   "metadata": {},
   "source": [
    "<span style=\"color:black;font-size: 25px; font-family: Arial; font-weight: bold;\"> 2 -Reindex the Series to have new indices: 'a', 'b', 'c', 'd', 'e'.\n",
    "\n",
    "</span>"
   ]
  },
  {
   "cell_type": "markdown",
   "metadata": {},
   "source": [
    "<span style=\"color:black;font-size: 25px; font-family: Arial; font-weight: bold;\"> 3 - Print the reindexed Series. \n",
    "\n",
    "</span>"
   ]
  },
  {
   "cell_type": "code",
   "execution_count": null,
   "metadata": {},
   "outputs": [],
   "source": []
  },
  {
   "cell_type": "markdown",
   "metadata": {},
   "source": [
    "<span style=\"color:black;font-size: 25px; font-family: Arial; font-weight: bold;\"> Program 3 -  Sorting a DataFrame</span>"
   ]
  },
  {
   "cell_type": "markdown",
   "metadata": {},
   "source": [
    "<span style=\"color:black;font-size: 25px; font-family: Arial; font-weight: bold;\"> 1 - Using the DataFrame from Exercise 1, sort the DataFrame by 'Age' in ascending order.\n",
    "</span>"
   ]
  },
  {
   "cell_type": "markdown",
   "metadata": {},
   "source": [
    "<span style=\"color:black;font-size: 25px; font-family: Arial; font-weight: bold;\"> 2 - Print the sorted DataFrame.\n",
    "</span>"
   ]
  },
  {
   "cell_type": "code",
   "execution_count": null,
   "metadata": {},
   "outputs": [],
   "source": []
  }
 ],
 "metadata": {
  "kernelspec": {
   "display_name": "Python 3",
   "language": "python",
   "name": "python3"
  },
  "language_info": {
   "codemirror_mode": {
    "name": "ipython",
    "version": 3
   },
   "file_extension": ".py",
   "mimetype": "text/x-python",
   "name": "python",
   "nbconvert_exporter": "python",
   "pygments_lexer": "ipython3",
   "version": "3.8.5"
  },
  "toc": {
   "base_numbering": 1,
   "nav_menu": {},
   "number_sections": true,
   "sideBar": true,
   "skip_h1_title": false,
   "title_cell": "Table of Contents",
   "title_sidebar": "Contents",
   "toc_cell": false,
   "toc_position": {},
   "toc_section_display": true,
   "toc_window_display": false
  }
 },
 "nbformat": 4,
 "nbformat_minor": 5
}
