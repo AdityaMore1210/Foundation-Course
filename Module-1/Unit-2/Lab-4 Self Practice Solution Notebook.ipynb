{
 "cells": [
  {
   "cell_type": "markdown",
   "id": "ae95b7a2",
   "metadata": {},
   "source": [
    "# EDUNET FOUNDATION-Self Practice Solution Notebook"
   ]
  },
  {
   "cell_type": "markdown",
   "id": "a7749f55",
   "metadata": {},
   "source": [
    "## Lab-4 Self Practice Solution Notebook"
   ]
  },
  {
   "cell_type": "markdown",
   "id": "f3eb5021",
   "metadata": {},
   "source": [
    "### Problem-1 Catching all exceptions using Exception"
   ]
  },
  {
   "cell_type": "code",
   "execution_count": 1,
   "id": "ebce3e42",
   "metadata": {},
   "outputs": [
    {
     "name": "stdout",
     "output_type": "stream",
     "text": [
      "An error occurred: division by zero\n",
      "An error occurred: name 'undefined_variable' is not defined\n"
     ]
    }
   ],
   "source": [
    "try:\n",
    "    result = 10 / 0\n",
    "except Exception as e:\n",
    "    print(\"An error occurred:\", str(e))\n",
    "try:\n",
    "    print(undefined_variable)\n",
    "except Exception as e:\n",
    "    print(\"An error occurred:\", str(e))"
   ]
  },
  {
   "cell_type": "markdown",
   "id": "4e0115b9",
   "metadata": {},
   "source": [
    "### Problem-2 Using else clause with try/except inside a function"
   ]
  },
  {
   "cell_type": "code",
   "execution_count": 4,
   "id": "bbc28554",
   "metadata": {},
   "outputs": [
    {
     "name": "stdout",
     "output_type": "stream",
     "text": [
      "Division by zero!\n",
      "None\n",
      "Division successful!\n",
      "5.0\n"
     ]
    }
   ],
   "source": [
    "def divide(a, b):\n",
    "    try:\n",
    "        result = a / b\n",
    "    except ZeroDivisionError:\n",
    "        print(\"Division by zero!\")\n",
    "        return None\n",
    "    else:\n",
    "        print(\"Division successful!\")\n",
    "        return result\n",
    "\n",
    "print(divide(10, 0))\n",
    "print(divide(10,2))"
   ]
  },
  {
   "cell_type": "code",
   "execution_count": null,
   "id": "f1a828de",
   "metadata": {},
   "outputs": [],
   "source": []
  }
 ],
 "metadata": {
  "kernelspec": {
   "display_name": "Python 3 (ipykernel)",
   "language": "python",
   "name": "python3"
  },
  "language_info": {
   "codemirror_mode": {
    "name": "ipython",
    "version": 3
   },
   "file_extension": ".py",
   "mimetype": "text/x-python",
   "name": "python",
   "nbconvert_exporter": "python",
   "pygments_lexer": "ipython3",
   "version": "3.9.13"
  }
 },
 "nbformat": 4,
 "nbformat_minor": 5
}
