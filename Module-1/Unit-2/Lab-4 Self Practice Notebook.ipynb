{
 "cells": [
  {
   "cell_type": "markdown",
   "id": "ae95b7a2",
   "metadata": {},
   "source": [
    "# EDUNET FOUNDATION-Self Practice Notebook"
   ]
  },
  {
   "cell_type": "markdown",
   "id": "a7749f55",
   "metadata": {},
   "source": [
    "## Lab-4 Self Practice Notebook"
   ]
  },
  {
   "cell_type": "markdown",
   "id": "f3eb5021",
   "metadata": {},
   "source": [
    "### Problem-1 Catch all exceptions using Exception"
   ]
  },
  {
   "cell_type": "markdown",
   "id": "4e0115b9",
   "metadata": {},
   "source": [
    "### Problem-2 Using else clause with try/except inside a function"
   ]
  },
  {
   "cell_type": "code",
   "execution_count": null,
   "id": "bbc28554",
   "metadata": {},
   "outputs": [],
   "source": []
  }
 ],
 "metadata": {
  "kernelspec": {
   "display_name": "Python 3 (ipykernel)",
   "language": "python",
   "name": "python3"
  },
  "language_info": {
   "codemirror_mode": {
    "name": "ipython",
    "version": 3
   },
   "file_extension": ".py",
   "mimetype": "text/x-python",
   "name": "python",
   "nbconvert_exporter": "python",
   "pygments_lexer": "ipython3",
   "version": "3.9.13"
  }
 },
 "nbformat": 4,
 "nbformat_minor": 5
}
